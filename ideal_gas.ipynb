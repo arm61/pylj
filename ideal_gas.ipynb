{
 "cells": [
  {
   "cell_type": "code",
   "execution_count": 26,
   "metadata": {
    "collapsed": true
   },
   "outputs": [],
   "source": [
    "import numpy as np \n",
    "import matplotlib.pyplot as plt\n",
    "import scipy.optimize"
   ]
  },
  {
   "cell_type": "code",
   "execution_count": 51,
   "metadata": {},
   "outputs": [
    {
     "data": {
      "image/png": "[encoded data removed]",
      "text/plain": [
       "<matplotlib.figure.Figure at 0x7f28e38cff60>"
      ]
     },
     "metadata": {},
     "output_type": "display_data"
    }
   ],
   "source": [
    "p = np.asarray([4.547, 12.714, 22.923, 46.319, 84.191, 148.942, 251.951, 407.316, 669.048, 1043.884, 1759.936, \n",
    "     2875.240, 5202.088])\n",
    "N = np.arange(2, len(p)+2)\n",
    "n = 4\n",
    "\n",
    "def a(x, b):\n",
    "    return b * x\n",
    "\n",
    "plt.plot(N**2, p, 'o')\n",
    "x = np.arange(0, N[-1]**2, 0.1)\n",
    "c = scipy.optimize.curve_fit(a, N[:n]**2, p[:n])[0][0]\n",
    "plt.plot(x, a(x, c))\n",
    "plt.show()"
   ]
  },
  {
   "cell_type": "code",
   "execution_count": null,
   "metadata": {
    "collapsed": true
   },
   "outputs": [],
   "source": []
  },
  {
   "cell_type": "code",
   "execution_count": null,
   "metadata": {
    "collapsed": true
   },
   "outputs": [],
   "source": []
  }
 ],
 "metadata": {
  "kernelspec": {
   "display_name": "Python 3",
   "language": "python",
   "name": "python3"
  },
  "language_info": {
   "codemirror_mode": {
    "name": "ipython",
    "version": 3
   },
   "file_extension": ".py",
   "mimetype": "text/x-python",
   "name": "python",
   "nbconvert_exporter": "python",
   "pygments_lexer": "ipython3",
   "version": "3.6.2"
  }
 },
 "nbformat": 4,
 "nbformat_minor": 2
}
