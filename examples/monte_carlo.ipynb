{
 "cells": [
  {
   "cell_type": "code",
   "execution_count": 1,
   "metadata": {},
   "outputs": [],
   "source": [
    "import warnings\n",
    "import pylj\n",
    "from pylj import comp, mc, sample, util\n",
    "import numpy as np\n",
    "import matplotlib.pyplot as plt\n",
    "\n",
    "warnings.filterwarnings('ignore')"
   ]
  },
  {
   "cell_type": "code",
   "execution_count": 2,
   "metadata": {},
   "outputs": [],
   "source": [
    "def mc_simulation(number_of_particles, temperature, box_length, number_of_steps, sample_frequency):\n",
    "    # Creates the visualisation environment\n",
    "    %matplotlib notebook\n",
    "    # Initialise the system placing the particles on a square lattice\n",
    "    system = mc.initialise(number_of_particles, temperature, box_length, 'square')\n",
    "    # This sets the sampling class as Energy, which shows the energy of the system\n",
    "    sample_system = sample.Energy(system)\n",
    "    # Compute the energy of the system\n",
    "    system.particles, system.distances, system.energies = comp.compute_energy(system.particles, \n",
    "                                                                              system.box_length,\n",
    "                                                                              system.cut_off)\n",
    "    old_energy = system.energies.sum()\n",
    "    # Add this energy to the energy sample array\n",
    "    system = mc.sample(old_energy, system)\n",
    "    # Begin the monte carlo loop\n",
    "    for i in range(0, number_of_steps):\n",
    "        system.step += 1\n",
    "        # Select a random particle to remove\n",
    "        random_particle, system.position_store = mc.select_random_particle(system.particles)\n",
    "        # Select a random position to replace that particle\n",
    "        system.particles = mc.get_new_particle(system.particles, random_particle, system.box_length)\n",
    "        # Compute the new energy of the system\n",
    "        system.particles, system.distances, system.energies = comp.compute_energy(system.particles, \n",
    "                                                                                  system.box_length, \n",
    "                                                                                  system.cut_off)\n",
    "        new_energy = system.energies.sum()\n",
    "        # Assess the Metropolis condition\n",
    "        if mc.metropolis(temperature, old_energy, new_energy):\n",
    "            old_energy = mc.accept(new_energy)\n",
    "        else:\n",
    "            system.particles = mc.reject(system.position_store, system.particles, random_particle)\n",
    "        # Add this energy to the energy sample array\n",
    "        system = mc.sample(old_energy, system)\n",
    "        # At a given frequency sample the positions and plot\n",
    "        if system.step % sample_frequency == 0:\n",
    "            sample_system.update(system)\n",
    "    return system"
   ]
  },
  {
   "cell_type": "markdown",
   "metadata": {},
   "source": [
    "The `mc_simulation` function takes five variables:\n",
    "- The number of particles\n",
    "- The simulation temperature (for the Metropolis condition)\n",
    "- The simulation cell vector\n",
    "- The number of steps\n",
    "- The sampling frequency (how often the image is updated)"
   ]
  },
  {
   "cell_type": "code",
   "execution_count": null,
   "metadata": {
    "scrolled": false
   },
   "outputs": [],
   "source": [
    "system = mc_simulation(75, 273.15, 45, 100000, 100)"
   ]
  },
  {
   "cell_type": "code",
   "execution_count": null,
   "metadata": {},
   "outputs": [],
   "source": []
  }
 ],
 "metadata": {
  "kernelspec": {
   "display_name": "Python [conda env:pylj]",
   "language": "python",
   "name": "conda-env-pylj-py"
  },
  "language_info": {
   "codemirror_mode": {
    "name": "ipython",
    "version": 3
   },
   "file_extension": ".py",
   "mimetype": "text/x-python",
   "name": "python",
   "nbconvert_exporter": "python",
   "pygments_lexer": "ipython3",
   "version": "3.6.5"
  },
  "latex_envs": {
   "LaTeX_envs_menu_present": true,
   "autoclose": false,
   "autocomplete": true,
   "bibliofile": "biblio.bib",
   "cite_by": "apalike",
   "current_citInitial": 1,
   "eqLabelWithNumbers": true,
   "eqNumInitial": 1,
   "hotkeys": {
    "equation": "Ctrl-E",
    "itemize": "Ctrl-I"
   },
   "labels_anchors": false,
   "latex_user_defs": false,
   "report_style_numbering": false,
   "user_envs_cfg": false
  }
 },
 "nbformat": 4,
 "nbformat_minor": 2
}
