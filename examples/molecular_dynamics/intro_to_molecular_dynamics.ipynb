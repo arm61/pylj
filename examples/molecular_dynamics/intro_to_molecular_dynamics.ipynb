{
 "cells": [
  {
   "cell_type": "code",
   "execution_count": null,
   "metadata": {},
   "outputs": [],
   "source": [
    "import warnings\n",
    "import matplotlib.pyplot as plt\n",
    "import numpy as np\n",
    "from pylj import md, util, sample, forcefields\n",
    "\n",
    "warnings.filterwarnings('ignore')"
   ]
  },
  {
   "cell_type": "markdown",
   "metadata": {},
   "source": [
    "# Atomistic simulation\n",
    "\n",
    "The use of computers in chemistry is becoming more common as computers are increasing in power and the algorithms are becoming more accurate and efficient. Computer simulation of atomic and molecular species takes two \"flavours\":\n",
    "\n",
    "- **Quantum calculations**: where approximations are made to the Schrödinger equation to allow for its calculation for a multi-electron system (more information about this can be found in Atkins & Friedman's *Molecular Quantum Mechanics*),\n",
    "- **Classical simulations**: where model interactions between atoms are developed to allow chemical systems to be simulated,\n",
    "\n",
    "This exercise will focus on the latter.\n",
    "\n",
    "## Classical simulation\n",
    "\n",
    "One of the most popular models used to simulate interparticle interactions is known as the **Lennard-Jones** function. This models the London dispersion interactions between atoms. Hopefully the London dispersion interactions are familiar as consisting of: \n",
    "\n",
    "- **van der Waals attraction**: the attraction between atoms that occurs as a result of the formation of instantenous dipole formation,\n",
    "- **Pauli's exclusion principle**: the repulsion which stops atoms overlapping as no two electrons can have the same quantum state. \n",
    "\n",
    "This means that the Lennard-Jones function is attractive when particles are close enough to induce dipole formation but **very** repulsive when the particles are too close. The Lennard-Jones function has the following form,\n",
    "\n",
    "$$ E(r) = \\frac{A}{r^{12}} - \\frac{B}{r^6}, $$\n",
    "\n",
    "where $E(r)$ is the potential energy at a given distance $r$, while $A$ and $B$ are parameters specific to the nature of the given interaction. In the cell below, write a function to calculate the energy of an interaction between two argon atoms for given range of distances using the Lennard-Jones function as the model."
   ]
  },
  {
   "cell_type": "code",
   "execution_count": null,
   "metadata": {},
   "outputs": [],
   "source": [
    "def lennard_jones(A, B, r):\n",
    "    return ◽◽◽"
   ]
  },
  {
   "cell_type": "markdown",
   "metadata": {},
   "source": [
    "Then use this function to plot the potential energy from $r=3$ Å to $r=8$ Å, and discuss the shape and sign of this function in terms of the attractive and repulsive regimes, when the values of ε and σ are as follows.\n",
    "\n",
    "| A/$\\times10^{-134}$Jm$^{12}$ | B/$\\times10^{-78}$Jm$^6$ |\n",
    "|:------:|:------:|\n",
    "| 1.36 | 9.27 |"
   ]
  },
  {
   "cell_type": "code",
   "execution_count": null,
   "metadata": {},
   "outputs": [],
   "source": [
    "r = np.linspace( ◽◽◽, ◽◽◽, ◽◽◽ )\n",
    "E = ◽◽◽\n",
    "plt.plot( ◽◽◽, ◽◽◽ )\n",
    "plt.xlabel( ◽◽◽ )\n",
    "plt.ylabel( ◽◽◽ )\n",
    "plt.show()"
   ]
  },
  {
   "cell_type": "raw",
   "metadata": {},
   "source": [
    "# Discuss the shape and sign of this function in terms of the attractive and repulsive regimes."
   ]
  },
  {
   "cell_type": "markdown",
   "metadata": {},
   "source": [
    "We are going to use the software pylj. This is a Python library, which means it is a collection of functions to enable the simulation of molecular dynamics. An example of a function in pylj is the `pairwise.lennard_jones_energy`, which can be used similar to the `lennard_jones` function that you have defined above."
   ]
  },
  {
   "cell_type": "code",
   "execution_count": null,
   "metadata": {},
   "outputs": [],
   "source": [
    "r = np.linspace( 3e-10, 8e-10, 100 )\n",
    "E = forcefields.lennard_jones(r, [1.36e-134, 9.27e-78])\n",
    "\n",
    "plt.plot( r, E )\n",
    "plt.xlabel( '$r/m$' )\n",
    "plt.ylabel( '$E/J$' )\n",
    "plt.show()"
   ]
  },
  {
   "cell_type": "markdown",
   "metadata": {},
   "source": [
    "In addition to the functions associated directly with the molecular dynamics simulations, pylj is also useful for the visualisation of simulations (an example of a visualiation environment in pylj is shown below).\n",
    "\n",
    "<img src=\"fig1.png\" width=\"500px\">\n",
    "*Figure 1. The Interactions sampling class in pylj.*\n",
    "\n",
    "In this exercise, we will use pylj to help to build a molecular dynamics simulation where the particles interact via a Lennard-Jones potential. \n",
    "\n",
    "## Molecular dynamics \n",
    "\n",
    "Molecular dynamics or MD is the process of using Newton's equations of motion to probe the dynamical nature of a given system, the system that we are interested in is the interaction of argon atoms through a Lennard-Jones potential. The algorithm that is used in molecular dynamics simulations is as follows:\n",
    "\n",
    "1. initialise the system,\n",
    "2. start the clock, \n",
    "3. calculate the forces of each particle,\n",
    "4. integrate Newton's equations of motion to step forward in time,\n",
    "5. sample the system,\n",
    "6. go to 3.\n",
    "\n",
    "This process continues for as long as the scientist is interested in.\n",
    "\n",
    "### Initialisation \n",
    "\n",
    "Lets try and use pylj to initialise our system, to do this we use the function `md.initialise`. This function takes 4 inputs:\n",
    "- number of particles, \n",
    "- temperature of the simulation, \n",
    "- size of the simulation cell,\n",
    "- how the particles should be distributed.\n",
    "\n",
    "The first line is to set up the visualisation environment within the Jupyter notebook, and the third line then sets and plots the particular environment that you want (in this case the `JustCell` environment)."
   ]
  },
  {
   "cell_type": "code",
   "execution_count": null,
   "metadata": {},
   "outputs": [],
   "source": [
    "simulation = md.initialise(16, 300, 50, 'square')\n",
    "sample_system = sample.JustCell(simulation)"
   ]
  },
  {
   "cell_type": "markdown",
   "metadata": {},
   "source": [
    "In the above example, a `square` distribution of particles is assigned, however, it is also possible to distribute the particles randomly through the cell (with the keyword `random`). Try this out in the cell above and comment below on why this might cause issues for the molecular dynamics simulation. "
   ]
  },
  {
   "cell_type": "raw",
   "metadata": {},
   "source": [
    "# Comment on the problems of starting in a random configuration. Consider the possible problems of simulations that start at very high energy. "
   ]
  },
  {
   "cell_type": "markdown",
   "metadata": {},
   "source": [
    "Another important aspect of the initialisation process is to assign the initial velocities for each of the particles. This is achieved using the following equation, \n",
    "\n",
    "$$ \\mathbf{v}_i = (n_i - \\bar{n}) \\sqrt{\\frac{2T}{\\sum_i^N n^2}}, $$\n",
    "\n",
    "where $n_i$ is a series of numbers of length $N$, where $N$ is the number of particles, drawn from a uniform distribution between 0 and 1, $\\bar{n}$ is the mean $n_i$, and $T$ is the initial temperature of the system. The range of values for the velocities can be found for the system above using the following command."
   ]
  },
  {
   "cell_type": "code",
   "execution_count": null,
   "metadata": {},
   "outputs": [],
   "source": [
    "print(simulation.particles['xvelocity']) # m/s\n",
    "print(simulation.particles['yvelocity']) # m/s"
   ]
  },
  {
   "cell_type": "markdown",
   "metadata": {},
   "source": [
    "Having given each particle an initial position and velocity, the system is initialised. \n",
    "\n",
    "### Calculate forces\n",
    "\n",
    "The next stage is to calculate the forces on each of the particles. The forces on each of the atoms can be force directly from the energy (which is given by the Lennard-Jones function discussed above), as the force is the negative of the first derivative of the energy with respect to the distance, \n",
    "\n",
    "$$ \\mathbf{f} = -\\frac{\\partial E}{\\partial r}. $$\n",
    "\n",
    "The force of a given interaction can be found using the `forcefields.lennard(dr, constants, force=True)` function available in pylj, below plot the force for the interaction between two argon atoms as was completed for the energy above. "
   ]
  },
  {
   "cell_type": "code",
   "execution_count": null,
   "metadata": {},
   "outputs": [],
   "source": [
    "r = ◽◽◽\n",
    "f = ◽◽◽\n",
    "\n",
    "plt.plot( ◽◽◽, ◽◽◽ )\n",
    "plt.xlabel( ◽◽◽ )\n",
    "plt.ylabel( ◽◽◽ )\n",
    "plt.show()"
   ]
  },
  {
   "cell_type": "markdown",
   "metadata": {},
   "source": [
    "The knowledge of the forces is then converted to information about the acceleration on each particle using Newton's second law, \n",
    "\n",
    "$$ \\mathbf{f} = m\\mathbf{a}, $$\n",
    "\n",
    "where $m$ is the mass of the particle. \n",
    "\n",
    "It is possible to calculate the forces on all of the particles within a system in pylj using the `compute_force` function, as shown below. "
   ]
  },
  {
   "cell_type": "code",
   "execution_count": null,
   "metadata": {},
   "outputs": [],
   "source": [
    "simulation.compute_force()\n",
    "print(simulation.particles['xacceleration']) # m/s2\n",
    "print(simulation.particles['yacceleration']) # m/s2"
   ]
  },
  {
   "cell_type": "markdown",
   "metadata": {},
   "source": [
    "### Integration\n",
    "\n",
    "With knowledge of the particle positions, velocities and accelerations it is now possible to make use of Newton's equations of motion to move forward in time. This is achieved using an *integrator*, which integrates Newton's equations of motion. A [wide variety](https://en.wikipedia.org/wiki/Molecular_dynamics#Integrators) of MD integrators exist, but we will discuss one of the simplest, known as the Verlet integrator. This has the form,\n",
    "\n",
    "$$ \\mathbf{x}_1 = \\mathbf{x}_0 + \\mathbf{v}_0\\Delta t + \\frac{1}{2}\\mathbf{a}_0 \\Delta t^2, $$\n",
    "\n",
    "for the first step and, \n",
    "\n",
    "$$ \\mathbf{x}_{n+1} = 2\\mathbf{x}_n - \\mathbf{x}_{n-1} + \\mathbf{a}_0 \\Delta t^2, $$\n",
    "\n",
    "for subsequent steps. Below, define a function to perform the integration in either the *x* or *y* dimension using the Verlet integrator. "
   ]
  },
  {
   "cell_type": "code",
   "execution_count": null,
   "metadata": {},
   "outputs": [],
   "source": [
    "def verlet(position, previous_position, velocity, acceleration, timestep, i):\n",
    "    if i == 0:\n",
    "        ◽◽◽\n",
    "    else:\n",
    "        ◽◽◽        "
   ]
  },
  {
   "cell_type": "markdown",
   "metadata": {},
   "source": [
    "### Sampling\n",
    "\n",
    "Following the integration, the next stage is to sample the system. Currently we are only interested in plotting the particles positions, this can be achieved using the `update` function (assuming that the sampling environment has been defined). "
   ]
  },
  {
   "cell_type": "code",
   "execution_count": null,
   "metadata": {},
   "outputs": [],
   "source": [
    "simulation = md.initialise(16, 300, 50, 'square')\n",
    "sample_system = sample.JustCell(simulation)"
   ]
  },
  {
   "cell_type": "code",
   "execution_count": null,
   "metadata": {},
   "outputs": [],
   "source": [
    "simulation.compute_force()\n",
    "◽◽◽ = verlet(◽◽◽, ◽◽◽, ◽◽◽, ◽◽◽, ◽◽◽, ◽◽◽)\n",
    "sample_system.update(simulation)"
   ]
  },
  {
   "cell_type": "markdown",
   "metadata": {},
   "source": [
    "It might be hard to see the change, try making the system update on a loop (essentially carrying out step 6 of the algorithm) and see is the MD simulation is working (it is probably best to only update the plot occasionally, as this is the slowest part of the method, consider how this may be done)."
   ]
  },
  {
   "cell_type": "code",
   "execution_count": null,
   "metadata": {},
   "outputs": [],
   "source": [
    "# Cell for building MD simulation. "
   ]
  },
  {
   "cell_type": "code",
   "execution_count": null,
   "metadata": {},
   "outputs": [],
   "source": []
  }
 ],
 "metadata": {
  "kernelspec": {
   "display_name": "Python 3 (ipykernel)",
   "language": "python",
   "name": "python3"
  },
  "language_info": {
   "codemirror_mode": {
    "name": "ipython",
    "version": 3
   },
   "file_extension": ".py",
   "mimetype": "text/x-python",
   "name": "python",
   "nbconvert_exporter": "python",
   "pygments_lexer": "ipython3",
   "version": "3.12.2"
  },
  "latex_envs": {
   "LaTeX_envs_menu_present": true,
   "autoclose": false,
   "autocomplete": true,
   "bibliofile": "biblio.bib",
   "cite_by": "apalike",
   "current_citInitial": 1,
   "eqLabelWithNumbers": true,
   "eqNumInitial": 1,
   "hotkeys": {
    "equation": "Ctrl-E",
    "itemize": "Ctrl-I"
   },
   "labels_anchors": false,
   "latex_user_defs": false,
   "report_style_numbering": false,
   "user_envs_cfg": false
  }
 },
 "nbformat": 4,
 "nbformat_minor": 4
}
