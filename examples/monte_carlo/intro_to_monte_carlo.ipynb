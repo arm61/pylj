{
 "cells": [
  {
   "cell_type": "code",
   "execution_count": null,
   "metadata": {},
   "outputs": [],
   "source": [
    "import warnings\n",
    "import matplotlib.pyplot as plt\n",
    "import numpy as np\n",
    "from pylj import mc, util, sample, forcefields\n",
    "\n",
    "warnings.filterwarnings('ignore')"
   ]
  },
  {
   "cell_type": "markdown",
   "metadata": {},
   "source": [
    "# Atomistic simulation\n",
    "\n",
    "The use of computers in chemistry is becoming more common as computers are increasing in power and the algorithms are becoming more accurate and efficient. Computer simulation of atomic and molecular species takes two \"flavours\":\n",
    "\n",
    "- **Quantum calculations**: where approximations are made to the Schrödinger equation to allow for its calculation for a multi-electron system (more information about this can be found in Atkins & Friedman's *Molecular Quantum Mechanics*),\n",
    "- **Classical simulations**: where model interactions between atoms are developed to allow chemical systems to be simulated,\n",
    "\n",
    "This exercise will focus on the latter.\n",
    "\n",
    "## Classical simulation\n",
    "\n",
    "One of the most popular models used to simulate interparticle interactions is known as the **Lennard-Jones** function. This models the London dispersion interactions between atoms. Hopefully the London dispersion interactions are familiar as consisting of: \n",
    "\n",
    "- **van der Waals attraction**: the attraction between atoms that occurs as a result of the formation of instantenous dipole formation,\n",
    "- **Pauli's exclusion principle**: the repulsion which stops atoms overlapping as no two electrons can have the same quantum state. \n",
    "\n",
    "This means that the Lennard-Jones function is attractive when particles are close enough to induce dipole formation but **very** repulsive when the particles are too close. The Lennard-Jones function has the following form,\n",
    "\n",
    "$$ E(r) = \\frac{A}{r^{12}} - \\frac{B}{r^6}, $$\n",
    "\n",
    "where $E(r)$ is the potential energy at a given distance $r$, while $A$ and $B$ are parameters specific to the nature of the given interaction. In the cell below, write a function to calculate the energy of an interaction between two argon atoms for given range of distances using the Lennard-Jones function as the model."
   ]
  },
  {
   "cell_type": "code",
   "execution_count": null,
   "metadata": {},
   "outputs": [],
   "source": [
    "def lennard_jones(A, B, r):\n",
    "    return ◽◽◽"
   ]
  },
  {
   "cell_type": "markdown",
   "metadata": {},
   "source": [
    "Then use this function to plot the potential energy from $r=3$ Å to $r=8$ Å, and discuss the shape and sign of this function in terms of the attractive and repulsive regimes, when the values of ε and σ are as follows.\n",
    "\n",
    "| A/$\\times10^{-134}$Jm$^{12}$ | B/$\\times10^{-78}$Jm$^6$ |\n",
    "|:------:|:------:|\n",
    "| 1.36 | 9.27 |"
   ]
  },
  {
   "cell_type": "code",
   "execution_count": null,
   "metadata": {},
   "outputs": [],
   "source": [
    "r = np.linspace( ◽◽◽, ◽◽◽, ◽◽◽ )\n",
    "E = ◽◽◽\n",
    "\n",
    "%matplotlib widget\n",
    "plt.plot(r, E)\n",
    "plt.xlabel(\"$r/m$\")\n",
    "plt.ylabel(\"$E/J$\")\n",
    "plt.show()"
   ]
  },
  {
   "cell_type": "raw",
   "metadata": {},
   "source": [
    "# Discuss the shape and sign of this function in terms of the attractive and repulsive regimes."
   ]
  },
  {
   "cell_type": "markdown",
   "metadata": {},
   "source": [
    "We are going to use the software pylj. This is a Python library, which means it is a collection of functions to enable the simulation by Monte Carlo. An example of a function in pylj is the `forcefields.lennard_jones`, which can be used similar to the `lennard_jones` function that you have defined above."
   ]
  },
  {
   "cell_type": "code",
   "execution_count": null,
   "metadata": {},
   "outputs": [],
   "source": [
    "r = np.linspace( 3e-10, 8e-10, 100 )\n",
    "E = forcefields.lennard_jones(r, [1.36e-134, 9.27e-78])\n",
    "\n",
    "%matplotlib widget\n",
    "plt.plot( r, E )\n",
    "plt.xlabel( 'r/m' )\n",
    "plt.ylabel( 'E/J' )\n",
    "plt.show()"
   ]
  },
  {
   "cell_type": "markdown",
   "metadata": {},
   "source": [
    "In addition to the functions associated directly with the Monte Carlo simulations, pylj is also useful for the visualisation of simulations (an example of a visualiation environment in pylj is shown below).\n",
    "\n",
    "<img src=\"fig1.png\" width=\"500px\">\n",
    "*Figure 1. The Energy sampling class in pylj.*\n",
    "\n",
    "In this exercise, we will use pylj to help to build a Monte Carlo simulation where the total energy of the system is found using a Lennard-Jones potential. \n",
    "\n",
    "## Monte Carlo\n",
    "\n",
    "Monte Carlo or MC is a broad class of simulation method for determining equilibrium properties about a system. Monte Carlo is in many ways similar to [molecular dynamics](../molecular_dynamics/intro_to_molecular_dynamics.ipynb) however it makes use of statistical mechanics in lieu of molecular dynamics. Therefore, instead of dynamical information, the information generated is according to Boltzmann probabilities. The algorithm that is used in Monte Carlo simulations are as follows:\n",
    "\n",
    "1. initialise the system,\n",
    "2. calculate the energy of the system,\n",
    "3. suggest some change to the system,\n",
    "4. calculate the energy with this change,\n",
    "5. if some condition is true, accept the change,\n",
    "6. go to step 3.\n",
    "\n",
    "This process continues for as long as the scientist is interested in.\n",
    "\n",
    "### Initialisation \n",
    "\n",
    "Lets try and use pylj to initialise our system, to do this we use the function `mc.initialise`. This function takes 4 inputs:\n",
    "- number of particles, \n",
    "- temperature of the simulation, \n",
    "- size of the simulation cell,\n",
    "- how the particles should be distributed.\n",
    "\n",
    "The first line is to set up the visualisation environment within the Jupyter notebook, and the third line then sets and plots the particular enivornment that you want (in this case the `JustCell` environment)."
   ]
  },
  {
   "cell_type": "code",
   "execution_count": null,
   "metadata": {},
   "outputs": [],
   "source": [
    "%matplotlib widget\n",
    "simulation = mc.initialise(16, 300, 20, 'square')\n",
    "sample_system = sample.JustCell(simulation)"
   ]
  },
  {
   "cell_type": "markdown",
   "metadata": {},
   "source": [
    "In the above example, a `square` distribution of particles is assigned, however, it is also possible to distribute the particles randomly through the cell (with the keyword `random`), try this out in the cell above. \n",
    "\n",
    "### Calculate energy \n",
    "\n",
    "The next step is to find the energy of the system. This is achieved by summing the value for each interaction in the system. The example above has 16 atoms, the number of interactions in a *pairwise* method such as Monte Carlo is found with the following equation, \n",
    "\n",
    "$$ \\frac{(N - 1)N}{2}, $$\n",
    "\n",
    "define a function to determine the number of interactions below. "
   ]
  },
  {
   "cell_type": "code",
   "execution_count": null,
   "metadata": {},
   "outputs": [],
   "source": [
    "def number_of_interactions( ◽◽◽ ):\n",
    "    ◽◽◽"
   ]
  },
  {
   "cell_type": "markdown",
   "metadata": {},
   "source": [
    "pylj has a function for the determination of the energy of each interaction, `System.compute_energy`. This can be run as follows. "
   ]
  },
  {
   "cell_type": "code",
   "execution_count": null,
   "metadata": {},
   "outputs": [],
   "source": [
    "simulation.compute_energy()\n",
    "old_energies = simulation.energies\n",
    "print(old_energies)"
   ]
  },
  {
   "cell_type": "markdown",
   "metadata": {},
   "source": [
    "If the particles are more than 15 Å (or half the box length if the box length is less than 30 Å), the energy is automatically assigned as 0, since the particles are considered to be far enough apart that there interaction is negligible.\n",
    "\n",
    "### Make a change\n",
    "\n",
    "Then a change is made to the system, in Monte Carlo generally this can be a wide variety of types of change, such as the number of particles, their position, and the volume of the system. We will focus on modifying the positions of the particles, which is achieved through the following pair of functions."
   ]
  },
  {
   "cell_type": "code",
   "execution_count": null,
   "metadata": {},
   "outputs": [],
   "source": [
    "simulation.select_random_particle()\n",
    "simulation.new_random_position()"
   ]
  },
  {
   "cell_type": "markdown",
   "metadata": {},
   "source": [
    "If we then print the energies of the interactions again hopefully it is possible to see the difference. "
   ]
  },
  {
   "cell_type": "code",
   "execution_count": null,
   "metadata": {},
   "outputs": [],
   "source": [
    "simulation.compute_energy()\n",
    "new_energies = simulation.energies\n",
    "print(new_energies)"
   ]
  },
  {
   "cell_type": "markdown",
   "metadata": {},
   "source": [
    "### Find the new energy\n",
    "\n",
    "The total energy of the system in Monte Carlo is generally in the units of joules per atom (or molecule). Define below a function to calculate the total energy from the energy of the individual interactions. "
   ]
  },
  {
   "cell_type": "code",
   "execution_count": null,
   "metadata": {},
   "outputs": [],
   "source": [
    "def total_energy( ◽◽◽, ◽◽◽ ):\n",
    "    ◽◽◽"
   ]
  },
  {
   "cell_type": "markdown",
   "metadata": {},
   "source": [
    "### Comparing the energies\n",
    "\n",
    "It is then possible to compare the energy of the system before and after the move."
   ]
  },
  {
   "cell_type": "code",
   "execution_count": null,
   "metadata": {},
   "outputs": [],
   "source": [
    "if total_energy( new_energy, ◽◽◽ ) < total_energy( old_energy, ◽◽◽ ):\n",
    "    print('The energy has decreased!')\n",
    "else:\n",
    "    print('The energy increased :(')"
   ]
  },
  {
   "cell_type": "markdown",
   "metadata": {},
   "source": [
    "However, we are not just interested in if the energy has decreased as we want Boltzmann probabilities of the possible states. This requires the Metropolis condition, where the change is accepted if, \n",
    "\n",
    "$$ n < \\exp{\\bigg(\\frac{E_{\\text{new}} - E_{\\text{old}}}{k_BT}\\bigg)}, $$  \n",
    "\n",
    "where $n\\sim U(0, 1)$, $k_B$ is the Boltzmann constant, and $T$ is the temperature. This is implemented in pylj using the `mc.metropolis` function."
   ]
  },
  {
   "cell_type": "code",
   "execution_count": null,
   "metadata": {},
   "outputs": [],
   "source": [
    "mc.metropolis(300, total_energy(old_energies, ◽◽◽ ), total_energy(new_energies, ◽◽◽ ))"
   ]
  },
  {
   "cell_type": "markdown",
   "metadata": {},
   "source": [
    "This returns `True` if the move should be accepted and `False` if it should be rejected. Plot the new configuration of your system using the following cell and comment in whether the move was accepted or rejected (note that this updates the original plotting of the cell so you need to scroll up to observe the change). "
   ]
  },
  {
   "cell_type": "code",
   "execution_count": null,
   "metadata": {},
   "outputs": [],
   "source": [
    "sample_system.update(simulation)"
   ]
  },
  {
   "cell_type": "markdown",
   "metadata": {},
   "source": [
    "### Accept and reject\n",
    "\n",
    "pylj also has functions built in to accept and reject the moves that are proposed. These take the following forms, \n",
    "\n",
    "```python\n",
    "\n",
    "accept()\n",
    "\n",
    "reject()\n",
    "\n",
    "```\n",
    "\n",
    "Using this knowledge, attempt to build you own Monte Carlo simulation loop, using the `update` to present the changes to the simulation visualisation (note that this is the slowest part of the computation so it is recommended that you don't perform this every iteration). "
   ]
  },
  {
   "cell_type": "code",
   "execution_count": null,
   "metadata": {},
   "outputs": [],
   "source": [
    "# Cell for building MC simulation. "
   ]
  },
  {
   "cell_type": "code",
   "execution_count": null,
   "metadata": {},
   "outputs": [],
   "source": []
  }
 ],
 "metadata": {
  "kernelspec": {
   "display_name": "Python [conda env:pylj]",
   "language": "python",
   "name": "conda-env-pylj-py"
  },
  "language_info": {
   "codemirror_mode": {
    "name": "ipython",
    "version": 3
   },
   "file_extension": ".py",
   "mimetype": "text/x-python",
   "name": "python",
   "nbconvert_exporter": "python",
   "pygments_lexer": "ipython3",
   "version": "3.6.5"
  },
  "latex_envs": {
   "LaTeX_envs_menu_present": true,
   "autoclose": false,
   "autocomplete": true,
   "bibliofile": "biblio.bib",
   "cite_by": "apalike",
   "current_citInitial": 1,
   "eqLabelWithNumbers": true,
   "eqNumInitial": 1,
   "hotkeys": {
    "equation": "Ctrl-E",
    "itemize": "Ctrl-I"
   },
   "labels_anchors": false,
   "latex_user_defs": false,
   "report_style_numbering": false,
   "user_envs_cfg": false
  }
 },
 "nbformat": 4,
 "nbformat_minor": 2
}
