{
 "cells": [
  {
   "cell_type": "code",
   "execution_count": null,
   "metadata": {},
   "outputs": [],
   "source": [
    "import numpy as np\n",
    "import matplotlib.pyplot as plt"
   ]
  },
  {
   "cell_type": "markdown",
   "metadata": {},
   "source": [
    "# Ideal gas law from first principles\n",
    "\n",
    "The partition function, $Q$ for $N$ particles in a 3-dimensional box is, \n",
    "\n",
    "$$\n",
    "Q = \\frac{V^N}{N!\\Lambda^{3N}},\n",
    "$$\n",
    "\n",
    "where, $V$ is the volume of the system and $\\Lambda$ is the de Broglie thermal wavelength, \n",
    "\n",
    "$$\n",
    "\\Lambda = \\bigg(\\frac{\\beta h^2}{2\\pi m}\\bigg)^{1/2} = \\bigg(\\frac{h^2}{2 k_B T \\pi m}\\bigg)^{1/2}\n",
    "$$"
   ]
  },
  {
   "cell_type": "markdown",
   "metadata": {},
   "source": [
    "The De Broglie wavelength for an electron can be calculated using electron mass:\n",
    "\n",
    "$$m_e = 9.11*10^{-31}$$ \n",
    "\n",
    "Write a function that calculates the De Broglie wavelength for an electron at room temp (293k)"
   ]
  },
  {
   "cell_type": "code",
   "execution_count": null,
   "metadata": {},
   "outputs": [],
   "source": [
    "m_e = 9.11e-31\n",
    "h = 6.626e-34\n",
    "k_b = 1.38e-23\n",
    "\n",
    "def db_wavelength(T)\n",
    "    return ◽◽◽"
   ]
  },
  {
   "cell_type": "markdown",
   "metadata": {},
   "source": [
    "The most useful way to work with the partition function is in its logarithmic form, \n",
    "\n",
    "$$\n",
    "\\ln Q = \\ln \\bigg(\\frac{V^N}{N!\\Lambda^{3N}}\\bigg) = \\ln V^N - \\ln N! - \\ln\\Lambda^{3N}.\n",
    "$$\n",
    "\n",
    "Using Stirling's approximation,\n",
    "\n",
    "$$\n",
    "\\ln Q = N\\ln V - (N\\ln N - N) - N\\ln\\Lambda^3,\n",
    "$$\n",
    "\n",
    "and substituting the de Broglie thermal wavelength,\n",
    "\n",
    "$$\n",
    "\\ln Q = N\\ln V - (N\\ln N - N) - \\frac{3}{2}N\\Bigg[\\ln \\beta + \\ln \\bigg(\\frac{\\beta h^2}{2\\pi m}\\bigg) \\Bigg].\n",
    "$$\n",
    "\n",
    "The partition function can give information about thermodynamics of the system, \n",
    "\n",
    "$$\n",
    "p = k_bT\\bigg(\\frac{\\partial\\ln Q}{\\partial V}\\bigg)_T,\n",
    "$$\n",
    "\n",
    "This means, using the version of the partition function outlined above we can obtain the ideal gas law, \n",
    "\n",
    "$$\n",
    "p = k_BT\\frac{N}{V} = \\frac{Nk_BT}{V}.\n",
    "$$"
   ]
  },
  {
   "cell_type": "markdown",
   "metadata": {},
   "source": [
    "In the cell below, write a function that calculates the pressure using the ideal gas law"
   ]
  },
  {
   "cell_type": "code",
   "execution_count": null,
   "metadata": {},
   "outputs": [],
   "source": [
    "def ideal_pressure(◽◽◽,◽◽◽,◽◽◽)\n",
    "    return ◽◽◽"
   ]
  },
  {
   "cell_type": "markdown",
   "metadata": {},
   "source": [
    "See how this changes for a range of temperatures"
   ]
  },
  {
   "cell_type": "code",
   "execution_count": null,
   "metadata": {},
   "outputs": [],
   "source": [
    "T = ◽◽◽\n",
    "p = ideal_pressure(◽◽◽,◽◽◽,◽◽◽)\n",
    "\n",
    "plt.plot(T, p)\n",
    "plt.xlabel('Temperature')\n",
    "plt.ylabel('Ideal Pressure')\n",
    "plt.show()"
   ]
  }
 ],
 "metadata": {
  "author": "Ideal gas law from first principles",
  "kernelspec": {
   "display_name": "Python 3 (ipykernel)",
   "language": "python",
   "name": "python3"
  },
  "language_info": {
   "codemirror_mode": {
    "name": "ipython",
    "version": 3
   },
   "file_extension": ".py",
   "mimetype": "text/x-python",
   "name": "python",
   "nbconvert_exporter": "python",
   "pygments_lexer": "ipython3",
   "version": "3.10.12"
  },
  "latex_envs": {
   "LaTeX_envs_menu_present": true,
   "autoclose": false,
   "autocomplete": true,
   "bibliofile": "biblio.bib",
   "cite_by": "apalike",
   "current_citInitial": 1,
   "eqLabelWithNumbers": true,
   "eqNumInitial": 1,
   "hotkeys": {
    "equation": "Ctrl-E",
    "itemize": "Ctrl-I"
   },
   "labels_anchors": false,
   "latex_user_defs": false,
   "report_style_numbering": false,
   "user_envs_cfg": false
  }
 },
 "nbformat": 4,
 "nbformat_minor": 4
}
