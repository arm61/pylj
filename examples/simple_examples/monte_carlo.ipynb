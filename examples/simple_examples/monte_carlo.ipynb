{
 "cells": [
  {
   "cell_type": "code",
   "execution_count": 25,
   "metadata": {},
   "outputs": [],
   "source": [
    "import warnings\n",
    "from pylj import mc, sample, util\n",
    "import numpy as np\n",
    "import matplotlib.pyplot as plt\n",
    "\n",
    "warnings.filterwarnings('ignore')"
   ]
  },
  {
   "cell_type": "code",
   "execution_count": 28,
   "metadata": {},
   "outputs": [],
   "source": [
    "def mc_simulation(number_of_particles, temperature, box_length, number_of_steps, sample_frequency):\n",
    "    # Initialise the system placing the particles on a square lattice\n",
    "    constants=[[1.363e-134, 9.273e-78],[1.363e-134, 9.273e-78]]\n",
    "    system = mc.initialise(number_of_particles, temperature, box_length, 'square', constants=constants)\n",
    "    # This sets the sampling class as Energy, which shows the energy of the system\n",
    "    sample_system = sample.Energy(system)\n",
    "    # Compute the energy of the system\n",
    "    system.compute_energy()\n",
    "    system.old_energy = system.energies.sum()\n",
    "    # Add this energy to the energy sample array\n",
    "    system.mc_sample()\n",
    "    # Begin the monte carlo loop\n",
    "    for i in range(0, number_of_steps):\n",
    "        system.step += 1\n",
    "        # Select a random particle to remove\n",
    "        system.select_random_particle()\n",
    "        # Select a random position to replace that particle\n",
    "        system.new_random_position()\n",
    "        # Compute the new energy of the system\n",
    "        system.compute_energy()\n",
    "        system.new_energy = system.energies.sum()\n",
    "        # Assess the Metropolis condition\n",
    "        if mc.metropolis(temperature, system.old_energy, system.new_energy):\n",
    "            system.accept()\n",
    "        else:\n",
    "            system.reject()\n",
    "        # Add this energy to the energy sample array\n",
    "        system.mc_sample()\n",
    "        # At a given frequency sample the positions and plot\n",
    "        if system.step % sample_frequency == 0:\n",
    "            sample_system.update(system)\n",
    "    return system"
   ]
  },
  {
   "cell_type": "markdown",
   "metadata": {},
   "source": [
    "The `mc_simulation` function takes five variables:\n",
    "- The number of particles\n",
    "- The simulation temperature (for the Metropolis condition)\n",
    "- The simulation cell vector\n",
    "- The number of steps\n",
    "- The sampling frequency (how often the image is updated)"
   ]
  },
  {
   "cell_type": "code",
   "execution_count": 27,
   "metadata": {},
   "outputs": [
    {
     "ename": "TypeError",
     "evalue": "initialise() got an unexpected keyword argument 'mixing'",
     "output_type": "error",
     "traceback": [
      "\u001b[0;31m---------------------------------------------------------------------------\u001b[0m",
      "\u001b[0;31mTypeError\u001b[0m                                 Traceback (most recent call last)",
      "Cell \u001b[0;32mIn[27], line 1\u001b[0m\n\u001b[0;32m----> 1\u001b[0m system \u001b[38;5;241m=\u001b[39m \u001b[43mmc_simulation\u001b[49m\u001b[43m(\u001b[49m\u001b[38;5;241;43m50\u001b[39;49m\u001b[43m,\u001b[49m\u001b[43m \u001b[49m\u001b[38;5;241;43m273.15\u001b[39;49m\u001b[43m,\u001b[49m\u001b[43m \u001b[49m\u001b[38;5;241;43m45\u001b[39;49m\u001b[43m,\u001b[49m\u001b[43m \u001b[49m\u001b[38;5;241;43m2500\u001b[39;49m\u001b[43m,\u001b[49m\u001b[43m \u001b[49m\u001b[38;5;241;43m25\u001b[39;49m\u001b[43m)\u001b[49m\n",
      "Cell \u001b[0;32mIn[26], line 4\u001b[0m, in \u001b[0;36mmc_simulation\u001b[0;34m(number_of_particles, temperature, box_length, number_of_steps, sample_frequency)\u001b[0m\n\u001b[1;32m      1\u001b[0m \u001b[38;5;28;01mdef\u001b[39;00m \u001b[38;5;21mmc_simulation\u001b[39m(number_of_particles, temperature, box_length, number_of_steps, sample_frequency):\n\u001b[1;32m      2\u001b[0m     \u001b[38;5;66;03m# Initialise the system placing the particles on a square lattice\u001b[39;00m\n\u001b[1;32m      3\u001b[0m     constants\u001b[38;5;241m=\u001b[39m[[\u001b[38;5;241m1.363e-134\u001b[39m, \u001b[38;5;241m9.273e-78\u001b[39m],[\u001b[38;5;241m1.363e-134\u001b[39m, \u001b[38;5;241m9.273e-78\u001b[39m]]\n\u001b[0;32m----> 4\u001b[0m     system \u001b[38;5;241m=\u001b[39m \u001b[43mmc\u001b[49m\u001b[38;5;241;43m.\u001b[39;49m\u001b[43minitialise\u001b[49m\u001b[43m(\u001b[49m\u001b[43mnumber_of_particles\u001b[49m\u001b[43m,\u001b[49m\u001b[43m \u001b[49m\u001b[43mtemperature\u001b[49m\u001b[43m,\u001b[49m\u001b[43m \u001b[49m\u001b[43mbox_length\u001b[49m\u001b[43m,\u001b[49m\u001b[43m \u001b[49m\u001b[38;5;124;43m'\u001b[39;49m\u001b[38;5;124;43msquare\u001b[39;49m\u001b[38;5;124;43m'\u001b[39;49m\u001b[43m,\u001b[49m\u001b[43m \u001b[49m\u001b[43mconstants\u001b[49m\u001b[38;5;241;43m=\u001b[39;49m\u001b[43mconstants\u001b[49m\u001b[43m,\u001b[49m\u001b[43m \u001b[49m\u001b[43mmixing\u001b[49m\u001b[43m \u001b[49m\u001b[38;5;241;43m=\u001b[39;49m\u001b[43m \u001b[49m\u001b[38;5;28;43;01mFalse\u001b[39;49;00m\u001b[43m)\u001b[49m\n\u001b[1;32m      5\u001b[0m     \u001b[38;5;66;03m# This sets the sampling class as Energy, which shows the energy of the system\u001b[39;00m\n\u001b[1;32m      6\u001b[0m     sample_system \u001b[38;5;241m=\u001b[39m sample\u001b[38;5;241m.\u001b[39mEnergy(system)\n",
      "\u001b[0;31mTypeError\u001b[0m: initialise() got an unexpected keyword argument 'mixing'"
     ]
    }
   ],
   "source": [
    "system = mc_simulation(50, 273.15, 45, 2500, 25)"
   ]
  },
  {
   "cell_type": "code",
   "execution_count": null,
   "metadata": {},
   "outputs": [],
   "source": []
  }
 ],
 "metadata": {
  "kernelspec": {
   "display_name": "Python 3 (ipykernel)",
   "language": "python",
   "name": "python3"
  },
  "language_info": {
   "codemirror_mode": {
    "name": "ipython",
    "version": 3
   },
   "file_extension": ".py",
   "mimetype": "text/x-python",
   "name": "python",
   "nbconvert_exporter": "python",
   "pygments_lexer": "ipython3",
   "version": "3.12.4"
  },
  "latex_envs": {
   "LaTeX_envs_menu_present": true,
   "autoclose": false,
   "autocomplete": true,
   "bibliofile": "biblio.bib",
   "cite_by": "apalike",
   "current_citInitial": 1,
   "eqLabelWithNumbers": true,
   "eqNumInitial": 1,
   "hotkeys": {
    "equation": "Ctrl-E",
    "itemize": "Ctrl-I"
   },
   "labels_anchors": false,
   "latex_user_defs": false,
   "report_style_numbering": false,
   "user_envs_cfg": false
  }
 },
 "nbformat": 4,
 "nbformat_minor": 4
}
