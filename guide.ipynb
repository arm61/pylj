{
 "cells": [
  {
   "cell_type": "code",
   "execution_count": null,
   "metadata": {},
   "outputs": [],
   "source": [
    "import numpy as np\n",
    "import matplotlib.pyplot as plt"
   ]
  },
  {
   "cell_type": "markdown",
   "metadata": {},
   "source": [
    "# the pylj guide\n",
    "\n",
    "Welcome to the guide for how to use pylj. The document will focus on how to get pylj running, the pedagogical aspects of the code, and give some examples of how pylj could be used in teaching of classical simulation to undergraduate chemistry and physics students. There is some assumed knowledge:\n",
    "\n",
    "- you have some familiarity with the Jupyter notebooks framework (in that you were able to install Jupyter and open this notebook\n",
    "- you have enough familiarity with Python to be able to install packages either via pip or from source. \n",
    "\n",
    "## how to get pylj?\n",
    "\n",
    "The first thing to do is to get a copy of pylj running on your computer. pylj is available on the pypi package manager so it is possible to install pylj (and all of it's dependencies) using the following command,\n",
    "\n",
    "```\n",
    "pip install pylj \n",
    "```\n",
    "\n",
    "in either the terminal (macOS or Linux) or the appropriate interface on Windows (e.g. Anaconda Prompt). It is also possible to install pylj from source by cloning the git repository and installing as follows (in the pylj main directory, \n",
    "\n",
    "```\n",
    "pip install -r requirements.txt\n",
    "\n",
    "python setup.py build\n",
    "\n",
    "python setup.py install\n",
    "\n",
    "python setup.py test\n",
    "```\n",
    "\n",
    "The former method is preferred as the latter will install the (possibly) unstable development version of pylj. \n",
    "\n",
    "## what is pylj?\n",
    "\n",
    "Often is it difficult to introduce students (at both undergraduate and postgraduate level) to atomistic and molecular simulation due to the relatively high entry barrier (it is necessary to have some knowledge of lost arts such as the command line or programming). pylj aims to lower this barrier by allowing students to interact with a (simple) atomistic simulation with relative ease, while introducing ideas of programming. \n",
    "\n",
    "pylj is a simple tool that is capable of performing the two-dimensional simulation of particles interacting via a [Lennard-Jones potential](https://en.wikipedia.org/wiki/Lennard-Jones_potential), which essentially models the Paluli exclusion principle at short distances and the van der Waals attraction over long distances. The function used within pylj to determine the total energy of the system is as follows,\n",
    "\n",
    "$$ E_{\\text{total}}  = \\begin{cases}\n",
    "\\sum_{\\mathbf{r}}\\bigg(\\frac{A}{\\mathbf{r}^{12}} - \\frac{B}{\\mathbf{r}^6}\\bigg),& \\text{if }\\mathbf{r} < \\text{cut-off}\\\\\n",
    "0, & \\text{otherwise}\n",
    "\\end{cases}\n",
    "$$\n",
    "\n",
    "where, $A = 1.363\\times10^{-134}\\;\\text{Jm}^{12}$, $B = 9.273\\times10^{-78}\\;\\text{Jm}^6$, and $\\mathbf{r}$ is the distances between the pairs of particles (in pylj the cut-off is defaults to 15 Å, however may be varied). The values of $A$ and $B$ were taken from those determined for particles of argon by Rahman[1]. The result is a energy profile for a pair of particle that looks like this, "
   ]
  },
  {
   "cell_type": "code",
   "execution_count": null,
   "metadata": {},
   "outputs": [],
   "source": [
    "def e(r): \n",
    "    return 1.363e-134 / np.power(r, 12.) - 9.273e-78 / np.power(r, 6.)\n",
    "\n",
    "r = np.linspace(3.1e-10, 8e-10, 100)\n",
    "plt.plot(r, e(r))\n",
    "plt.xlabel('$\\mathbf{r}$/Å')\n",
    "plt.ylabel('$E$/ J')\n",
    "plt.show()"
   ]
  },
  {
   "cell_type": "markdown",
   "metadata": {},
   "source": [
    "pylj is capable of running both molecular dynamics and Monte-Carlo simulations using built in functions, but could be extended to cover any simulation method that uses the Lennard-Jones potential. \n",
    "\n",
    "### visualisation\n",
    "\n",
    "One of the most powerful aspects of pylj as a teaching tool is the visualisation environment. pylj is written to allow for the easy access to a series of commonly desired simulation output, such as instanteous pressure, temperature, and radial distribution funciton. These are all available through the use of a sampling class, these can either be those packaged with pylj, such as the Interactions or RDF classes, or can be custom built to the specification of the educator. More information about the sampling class and the sample module is available [here](http://pylj.readthedocs.io/en/latest/visualisation.html). \n",
    "\n",
    "## how to teach with pylj?\n",
    "\n",
    "The current vision of pylj involves its application in a teaching laboratory setting (however there are may other applications available), and through this vision we have lead to two main areas that pylj could be used:\n",
    "\n",
    "1. teaching about simulation algorithms, the mechanics of simulation and allowing the students to build a simulation themselves,\n",
    "2. showing how simulation can be used to study physical attributes of chemical systems, consolidating learning introduced as lecture material. \n",
    "\n",
    "We will introduce both of this, as they are link, although neither are reliant on the other. \n",
    "\n",
    "### simulation algorithms \n",
    "\n",
    "A common aspect of a final-year undergraduate degree is a course introducing simulation techniques, in particular molecular dynamics and Monte Carlo. In an effort to build on lecture material, it is possible to apply pylj as a tool to introduce these techniques in an interactive learning environment. \n",
    "\n",
    "#### molecular dynamics \n",
    "\n",
    "Typically molecular dynamics is taught as consisting of the following algorithm, \n",
    "\n",
    "1. initialise the system,\n",
    "2. start the clock, \n",
    "3. calculate the forces of each particle,\n",
    "4. integrate Newton's equations of motion to step forward in time,\n",
    "5. sample the system,\n",
    "6. go to 3.\n",
    "\n",
    "This would look as follows in pylj. "
   ]
  },
  {
   "cell_type": "code",
   "execution_count": null,
   "metadata": {},
   "outputs": [],
   "source": [
    "from pylj import md, sample, comp\n",
    "\n",
    "def md_simulation(number_of_particles, temperature, box_length, number_of_steps, sample_frequency):\n",
    "    # Creates the visualisation environment\n",
    "    %matplotlib notebook\n",
    "    # Initialise the system\n",
    "    system = md.initialise(number_of_particles, temperature, box_length, 'square')\n",
    "    # This sets the sampling class\n",
    "    sample_system = sample.Interactions(system)\n",
    "    # Start at time 0\n",
    "    system.time = 0\n",
    "    # Begin the molecular dynamics loop\n",
    "    for i in range(0, number_of_steps):\n",
    "        # At each step, calculate the forces on each particle and get acceleration\n",
    "        system.particles, system.distances, system.forces, system.energies = comp.compute_forces(system.particles, \n",
    "                                                                                                 system.box_length, \n",
    "                                                                                                 system.cut_off)\n",
    "        # Run the equations of motion integrator algorithm\n",
    "        system.particles = md.velocity_verlet(system.particles, system.timestep_length, system.box_length, \n",
    "                                              system.cut_off)\n",
    "        # Sample the thermodynamic and structural parameters of the system\n",
    "        system = md.sample(system.particles, system.box_length, system.initial_particles, system)\n",
    "        # Iterate the time\n",
    "        system.time += system.timestep_length\n",
    "        system.step += 1\n",
    "        # At a given frequency sample the positions and update the plots\n",
    "        if system.step % sample_frequency == 0:\n",
    "            sample_system.update(system)\n",
    "    return system"
   ]
  },
  {
   "cell_type": "markdown",
   "metadata": {},
   "source": [
    "Hopefully it is clear that there are a wide variety of teaching aspects available within this algorithm alone, possible discussions include (but are not limited to):\n",
    "\n",
    "- initialising the system on a square lattice versus a random positioning. Often the random positioning will result in the system exploding as the forces are too great,\n",
    "- as this is an NVE ensemble it could be discussed how the temperature of the system is not that anticipated,\n",
    "- the conversion to an NVT ensemble using the [`comp.heat_bath`](http://pylj.readthedocs.io/en/latest/comp.html#pylj.comp.heat_bath) function in the sampling stage,\n",
    "- the discussion of different integrators, currently pylj only really supports [Velocity-Verlet](https://en.wikipedia.org/wiki/Verlet_integration#Velocity_Verlet) however there is nothing to stop students from writing their own integrator function.\n",
    "\n",
    "It is possible to quickly see the above function in action below."
   ]
  },
  {
   "cell_type": "code",
   "execution_count": null,
   "metadata": {
    "scrolled": false
   },
   "outputs": [],
   "source": [
    "simulation1 = md_simulation(30, 100, 30, 10000, 100)"
   ]
  },
  {
   "cell_type": "markdown",
   "metadata": {},
   "source": [
    "#### monte carlo\n",
    "\n",
    "Monte Carlo simulations are often taught in a similar fashion to molecular dynamics, with the introduction of an algorithm, \n",
    "\n",
    "1. initialise the system,\n",
    "2. calculate the energy of the system,\n",
    "3. suggest some change to the system,\n",
    "4. calculate the energy with this change,\n",
    "5. if some condition is true, accept the change,\n",
    "6. go to step 2.\n",
    "\n",
    "Again it is straightforward to impliment this in pylj, as follows. "
   ]
  },
  {
   "cell_type": "code",
   "execution_count": null,
   "metadata": {},
   "outputs": [],
   "source": [
    "from pylj import mc\n",
    "\n",
    "def mc_simulation(number_of_particles, temperature, box_length, number_of_steps, sample_frequency):\n",
    "    # Creates the visualisation environment\n",
    "    %matplotlib notebook\n",
    "    # Initialise the system placing the particles on a square lattice\n",
    "    system = mc.initialise(number_of_particles, temperature, box_length, 'square')\n",
    "    # This sets the sampling class as Energy, which shows the energy of the system\n",
    "    sample_system = sample.Energy(system)\n",
    "    # Compute the energy of the system\n",
    "    system.particles, system.distances, system.energies = comp.compute_energy(system.particles, \n",
    "                                                                              system.box_length,\n",
    "                                                                              system.cut_off)\n",
    "    old_energy = system.energies.sum()\n",
    "    # Add this energy to the energy sample array\n",
    "    system = mc.sample(old_energy, system)\n",
    "    # Begin the monte carlo loop\n",
    "    for i in range(0, number_of_steps):\n",
    "        system.step += 1\n",
    "        # Select a random particle to remove\n",
    "        random_particle, system.position_store = mc.select_random_particle(system.particles)\n",
    "        # Select a random position to replace that particle\n",
    "        system.particles = mc.get_new_particle(system.particles, random_particle, system.box_length)\n",
    "        # Compute the new energy of the system\n",
    "        system.particles, system.distances, system.energies = comp.compute_energy(system.particles, \n",
    "                                                                                  system.box_length, \n",
    "                                                                                  system.cut_off)\n",
    "        new_energy = system.energies.sum()\n",
    "        # Assess the Metropolis condition\n",
    "        if mc.metropolis(temperature, old_energy, new_energy):\n",
    "            old_energy = mc.accept(new_energy)\n",
    "        else:\n",
    "            system.particles = mc.reject(system.position_store, system.particles, random_particle)\n",
    "        # Add this energy to the energy sample array\n",
    "        system = mc.sample(old_energy, system)\n",
    "        # At a given frequency sample the positions and plot\n",
    "        if system.step % sample_frequency == 0:\n",
    "            sample_system.update(system)\n",
    "    return system"
   ]
  },
  {
   "cell_type": "markdown",
   "metadata": {},
   "source": [
    "In this example, the condition that must be true is the Metropolis condition. Again there are a clear number of teaching points within this algorithm:\n",
    "\n",
    "- changing the condition, such as a simple energy minimisation,\n",
    "- varying the temperature to show how the Metropolis condition allows for intrinsic thermostating,\n",
    "- again varying the starting configuration of the atoms,\n",
    "- implimenting a grand-canonical ensemble.\n",
    "\n",
    "Again the above function can be seen in action below. "
   ]
  },
  {
   "cell_type": "code",
   "execution_count": null,
   "metadata": {},
   "outputs": [],
   "source": [
    "system = mc_simulation(75, 100, 45, 100000, 100)"
   ]
  },
  {
   "cell_type": "markdown",
   "metadata": {},
   "source": [
    "### using simulation\n",
    "\n",
    "The other track to use pylj in teaching would be to show the ability for simulation to probe physical properties of chemical systems. Two examples of this that pylj has been applied to previously are: \n",
    "\n",
    "- probing the properties of argon at gas and liquid densities, showing where the ideal gas law is valid and where it breaks down,\n",
    "- observing the effect of the liquid to solid transition on the resulting diffraction pattern.\n",
    "\n",
    "The ideal gas law example has been written into a full undergraduate laboratory exercise and can be downloaded [here](https://github.com/arm61/pylj/tree/master/examples/ideal_gas_law). In this exercise, the student is introduced to classical simulation, Lennard-Jones potential, and molecular dynamics. A function is then given to allow the student to perform a NVT molecular dynamics simulation, and the student is asked to probe the effect of temperature on the energy of the system, the effect of density on the radial distribution function and the effect of density on the ideal gas law, showing that it breaks down at the gas-liquid transition. The student is then introduced to the van der Waals equation and given the opportunity to use it to rationalise the observed deviation from the ideal gas law. \n",
    "\n",
    "The other example has been used previously in a lecture environment, at the ISIS Neutron Training Course during a lecture on molecular simulation, which can be found [here](https://github.com/bjmorgan/python_in_chemistry/tree/master/Neutron_Training_Course). In this, the students were shown the pylj simulations along with the Scattering sampling class, which shows the diffraction profile for the system under study. The aim of this application was to show the students attending the course (who were unfamiliar with classical simulation) the possible links between simulation and experiment, pylj was able to provide a simple interface to allow for this."
   ]
  },
  {
   "cell_type": "markdown",
   "metadata": {},
   "source": [
    "1. [A. Rahman \"Correlations in the Motion of Atoms in Liquid Argon\", Physical Review 136 pp. A405–A411 (1964)](http://dx.doi.org/10.1103/PhysRev.136.A405)"
   ]
  },
  {
   "cell_type": "code",
   "execution_count": null,
   "metadata": {},
   "outputs": [],
   "source": []
  }
 ],
 "metadata": {
  "kernelspec": {
   "display_name": "Python [conda env:pylj]",
   "language": "python",
   "name": "conda-env-pylj-py"
  },
  "language_info": {
   "codemirror_mode": {
    "name": "ipython",
    "version": 3
   },
   "file_extension": ".py",
   "mimetype": "text/x-python",
   "name": "python",
   "nbconvert_exporter": "python",
   "pygments_lexer": "ipython3",
   "version": "3.6.5"
  },
  "latex_envs": {
   "LaTeX_envs_menu_present": true,
   "autoclose": false,
   "autocomplete": true,
   "bibliofile": "biblio.bib",
   "cite_by": "apalike",
   "current_citInitial": 1,
   "eqLabelWithNumbers": true,
   "eqNumInitial": 1,
   "hotkeys": {
    "equation": "Ctrl-E",
    "itemize": "Ctrl-I"
   },
   "labels_anchors": false,
   "latex_user_defs": false,
   "report_style_numbering": false,
   "user_envs_cfg": false
  }
 },
 "nbformat": 4,
 "nbformat_minor": 2
}
