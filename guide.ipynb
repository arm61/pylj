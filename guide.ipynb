{
 "cells": [
  {
   "cell_type": "code",
   "execution_count": null,
   "metadata": {},
   "outputs": [],
   "source": [
    "import numpy as np\n",
    "import matplotlib.pyplot as plt"
   ]
  },
  {
   "cell_type": "markdown",
   "metadata": {},
   "source": [
    "# the pylj guide\n",
    "\n",
    "Welcome to the guide for how to use pylj. The document will focus on how to get pylj running, the pedagogical aspects of the code, and give some examples of how pylj could be used in teaching of classical simulation to undergraduate chemistry and physics students. There is some assumed knowledge:\n",
    "\n",
    "- you have some familiarity with the Jupyter notebooks framework (in that you were able to install Jupyter and open this notebook\n",
    "- you have enough familiarity with Python to be able to install packages either via pip or from source. \n",
    "\n",
    "## how to get pylj?\n",
    "\n",
    "The first thing to do is to get a copy of pylj running on your computer. pylj is available on the pypi package manager so it is possible to install pylj (and all of it's dependencies) using the following command,\n",
    "\n",
    "```\n",
    "pip install pylj \n",
    "```\n",
    "\n",
    "in either the terminal (macOS or Linux) or the appropriate interface on Windows (e.g. Anaconda Prompt). It is also possible to install pylj from source by cloning the git repository and installing as follows (in the pylj main directory, \n",
    "\n",
    "```\n",
    "pip install -r requirements.txt\n",
    "\n",
    "python setup.py build\n",
    "\n",
    "python setup.py install\n",
    "\n",
    "python setup.py test\n",
    "```\n",
    "\n",
    "The former method is preferred as the latter will install the (possibly) unstable development version of pylj. \n",
    "\n",
    "## what is pylj?\n",
    "\n",
    "Often is it difficult to introduce students (at both undergraduate and postgraduate level) to atomistic and molecular simulation due to the relatively high entry barrier (it is necessary to have some knowledge of lost arts such as the command line or programming). pylj aims to lower this barrier by allowing students to interact with a (simple) atomistic simulation with relative ease, while introducing ideas of programming. \n",
    "\n",
    "pylj is a simple tool that is capable of performing the two-dimensional simulation of particles interacting via a [Lennard-Jones potential](https://en.wikipedia.org/wiki/Lennard-Jones_potential), which essentially models the Paluli exclusion principle at short distances and the van der Waals attraction over long distances. The function used within pylj to determine the total energy of the system is as follows,\n",
    "\n",
    "$$ E_{\\text{total}}  = \\begin{cases}\n",
    "\\sum_{\\mathbf{r}}\\bigg(\\frac{A}{\\mathbf{r}^{12}} - \\frac{B}{\\mathbf{r}^6}\\bigg),& \\text{if }\\mathbf{r} < \\text{cut-off}\\\\\n",
    "0, & \\text{otherwise}\n",
    "\\end{cases}\n",
    "$$\n",
    "\n",
    "where, $A = 1.363\\times10^{-134}\\;\\text{Jm}^{12}$, $B = 9.273\\times10^{-78}\\;\\text{Jm}^6$, and $\\mathbf{r}$ is the distances between the pairs of particles (in pylj the cut-off is defaults to 15 Å, however may be varied). The values of $A$ and $B$ were taken from those determined for particles of argon by Rahman[1]. The result is a energy profile for a pair of particle that looks like this, "
   ]
  },
  {
   "cell_type": "code",
   "execution_count": null,
   "metadata": {},
   "outputs": [],
   "source": [
    "def e(r): \n",
    "    return 1.363e-134 / np.power(r, 12.) - 9.273e-78 / np.power(r, 6.)\n",
    "\n",
    "r = np.linspace(3.1e-10, 8e-10, 100)\n",
    "plt.plot(r, e(r))\n",
    "plt.xlabel('$\\mathbf{r}$/Å')\n",
    "plt.ylabel('$E$/ J')\n",
    "plt.show()"
   ]
  },
  {
   "cell_type": "markdown",
   "metadata": {},
   "source": [
    "pylj is capable of running both molecular dynamics and Monte-Carlo simulations using built in functions, but could be extended to cover any simulation method that uses the Lennard-Jones potential. \n",
    "\n",
    "### visualisation\n",
    "\n",
    "One of the most powerful aspects of pylj as a teaching tool is the visualisation environment. pylj is written to allow for the easy access to a series of commonly desired simulation output, such as instanteous pressure, temperature, and radial distribution funciton. These are all available through the use of a sampling class, these can either be those packaged with pylj, such as the Interactions or RDF classes, or can be custom built to the specification of the educator. More information about the sampling class and the sample module is available [here](http://pylj.readthedocs.io/en/latest/visualisation.html). \n",
    "\n",
    "## how to teach with pylj?\n",
    "\n",
    "The current vision of pylj involves its application in a teaching laboratory setting (however there are may other applications available), and through this vision we have lead to two main areas that pylj could be used:\n",
    "\n",
    "1. teaching about simulation algorithms, the mechanics of simulation and allowing the students to build a simulation themselves,\n",
    "2. showing how simulation can be used to study physical attributes of chemical systems, consolidating learning introduced as lecture material. \n",
    "\n",
    "Some examples of these can be found in the [examples directory](./examples/), in particular the [molecular dynamics](./examples/molecular_dynamics/intro_to_molecular_dynamics.ipynb) and [Monte Carlo](./examples/monte_carlo/intro_to_monte_carlo.ipynb) examples show how pylj could be used in the teaching of molecular simulations, while the [ideal gas law](./examples/ideal_gas_law/ideal_gas_law.ipynb) notebook is examplary of how pylj can be used to present, in an interactive fashion, the deviation from the ideal gas law that is observed following the gas-to-liquid transition. "
   ]
  },
  {
   "cell_type": "markdown",
   "metadata": {},
   "source": [
    "1. [A. Rahman \"Correlations in the Motion of Atoms in Liquid Argon\", Physical Review 136 pp. A405–A411 (1964)](http://dx.doi.org/10.1103/PhysRev.136.A405)"
   ]
  },
  {
   "cell_type": "code",
   "execution_count": null,
   "metadata": {},
   "outputs": [],
   "source": []
  }
 ],
 "metadata": {
  "kernelspec": {
   "display_name": "Python [conda env:pylj]",
   "language": "python",
   "name": "conda-env-pylj-py"
  },
  "language_info": {
   "codemirror_mode": {
    "name": "ipython",
    "version": 3
   },
   "file_extension": ".py",
   "mimetype": "text/x-python",
   "name": "python",
   "nbconvert_exporter": "python",
   "pygments_lexer": "ipython3",
   "version": "3.6.5"
  },
  "latex_envs": {
   "LaTeX_envs_menu_present": true,
   "autoclose": false,
   "autocomplete": true,
   "bibliofile": "biblio.bib",
   "cite_by": "apalike",
   "current_citInitial": 1,
   "eqLabelWithNumbers": true,
   "eqNumInitial": 1,
   "hotkeys": {
    "equation": "Ctrl-E",
    "itemize": "Ctrl-I"
   },
   "labels_anchors": false,
   "latex_user_defs": false,
   "report_style_numbering": false,
   "user_envs_cfg": false
  }
 },
 "nbformat": 4,
 "nbformat_minor": 2
}
